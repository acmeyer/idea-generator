{
  "nbformat": 4,
  "nbformat_minor": 0,
  "metadata": {
    "colab": {
      "provenance": [],
      "collapsed_sections": [
        "youj_iBunb6G",
        "bhY43oxAmzJS",
        "CCz3mtqOsMcW"
      ],
      "authorship_tag": "ABX9TyP+O+a40Rs/nzdQpuM8EEzI",
      "include_colab_link": true
    },
    "kernelspec": {
      "name": "python3",
      "display_name": "Python 3"
    },
    "language_info": {
      "name": "python"
    }
  },
  "cells": [
    {
      "cell_type": "markdown",
      "metadata": {
        "id": "view-in-github",
        "colab_type": "text"
      },
      "source": [
        "<a href=\"https://colab.research.google.com/github/acmeyer/idea-generator/blob/main/gpt_idea_generator.ipynb\" target=\"_parent\"><img src=\"https://colab.research.google.com/assets/colab-badge.svg\" alt=\"Open In Colab\"/></a>"
      ]
    },
    {
      "cell_type": "markdown",
      "source": [
        "# Idea Generator\n",
        "\n",
        "This program is for helping you to generate ideas by leveraging GPT (through OpenAI's API). The basics for how it works is that you provide it a prompt about what kinds of ideas you're looking for (examples are also provided below) and GPT will generate a list of ideas for you. You can then use this list however you want (for example, it could spur new ideas for you or you can filter and sort them by your own personal ranking, etc)."
      ],
      "metadata": {
        "id": "iXmXNYCoeQmW"
      }
    },
    {
      "cell_type": "markdown",
      "source": [
        "## How it works\n",
        "\n",
        "The easiest thing to do is go to **Runtime** > **Run all**. This will run all the below cells for you, without you having to run them one by one. You will need to input some things in order for the program to complete, but you will be prompted for this information when needed.\n",
        "\n",
        "Alternatively, you can run each cell one-by-one by clicking the run button next to the cell (looks like a \"play\" button).\n",
        "\n",
        "If you want to make any changes to this program or save a copy for yourself, go to **File** > **Save a copy in Drive**."
      ],
      "metadata": {
        "id": "D-N4iikxoXBJ"
      }
    },
    {
      "cell_type": "markdown",
      "source": [
        "## Setup\n",
        "\n",
        "This section contains the code necessary to run the program. As part of the setup, you will need to enter your OpenAI API Key."
      ],
      "metadata": {
        "id": "QaxVBgkajodS"
      }
    },
    {
      "cell_type": "markdown",
      "source": [
        "### Packages\n",
        "\n",
        "This section contains the necessary packages to run the program. You can ignore this section unless you want to add new packages."
      ],
      "metadata": {
        "id": "youj_iBunb6G"
      }
    },
    {
      "cell_type": "code",
      "execution_count": null,
      "metadata": {
        "id": "goCwtqfLbxxK"
      },
      "outputs": [],
      "source": [
        "# Install required packages\n",
        "!pip install openai --quiet\n",
        "!pip install tenacity --quiet"
      ]
    },
    {
      "cell_type": "code",
      "source": [
        "# Import necessary packages\n",
        "import openai\n",
        "import pandas as pd\n",
        "import os\n",
        "from io import StringIO\n",
        "from tenacity import retry, stop_after_attempt, wait_random_exponential, retry_if_not_exception_type"
      ],
      "metadata": {
        "id": "WrmHQc6JeO0x"
      },
      "execution_count": null,
      "outputs": []
    },
    {
      "cell_type": "markdown",
      "source": [
        "### OpenAI Configuration\n",
        "\n",
        "This section configures settings for OpenAI. You will need to enter your API Key here but you can also change the model and temperature settings here."
      ],
      "metadata": {
        "id": "CPvnxLI_nngT"
      }
    },
    {
      "cell_type": "code",
      "source": [
        "openai_api_key = input('Enter your OpenAI API Key: ')\n",
        "openai.api_key = openai_api_key\n",
        "MODEL = \"gpt-4\" # Change this to gpt-3.5-turbo if you want faster and cheaper (but generally worse) results\n",
        "TEMPERATURE = 0.7 # Change this value if you want more or less creativity (but also hallucinations) 0 is low, 1 is high"
      ],
      "metadata": {
        "id": "mpxviD8OmMb0"
      },
      "execution_count": null,
      "outputs": []
    },
    {
      "cell_type": "markdown",
      "source": [
        "### Functions\n",
        "\n",
        "These functions provide the main logic to this program. If you want to make changes to the logic, you can do that here. Otherwise, you don't need to pay attention to this section."
      ],
      "metadata": {
        "id": "bhY43oxAmzJS"
      }
    },
    {
      "cell_type": "code",
      "source": [
        "@retry(wait=wait_random_exponential(min=1, max=20), stop=stop_after_attempt(6), retry=retry_if_not_exception_type(openai.InvalidRequestError))\n",
        "def get_completion(messages):\n",
        "    response = openai.ChatCompletion.create(\n",
        "        model=MODEL,\n",
        "        messages=messages,\n",
        "        temperature=TEMPERATURE,\n",
        "    )\n",
        "    return response['choices'][0]['message']['content']"
      ],
      "metadata": {
        "id": "uUOgX8WMlykb"
      },
      "execution_count": null,
      "outputs": []
    },
    {
      "cell_type": "code",
      "source": [
        "def get_new_ideas(system_prompt: str, num_new_ideas: int = 10, existing_ideas: list[str] = []):\n",
        "    user_content = f\"Please generate {num_new_ideas} new ideas with each idea as a row in a csv with 'name' and 'description' as headers. Each description should be a paragraph of 40-80 words.\"\n",
        "    if len(existing_ideas) > 0:\n",
        "        user_content += \"\\n\\nHere are the existing ideas. Do not repeat any of these when generating new ones:\\n\" + \"\\n- \".join(existing_ideas)\n",
        "\n",
        "    messages=[\n",
        "        {\"role\": \"system\", \"content\": f\"{system_prompt} Your output should be in a CSV format with one idea per row and with the headings 'name' and 'description'.\"},\n",
        "        {\"role\": \"user\", \"content\": user_content},\n",
        "    ]\n",
        "    return get_completion(messages)"
      ],
      "metadata": {
        "id": "jE5rzeNMmtxi"
      },
      "execution_count": null,
      "outputs": []
    },
    {
      "cell_type": "code",
      "source": [
        "def generate_ideas(system_prompt: str, n: int = 10):\n",
        "    output_df = pd.DataFrame({\n",
        "        'name': [],\n",
        "        'description': [],\n",
        "    })\n",
        "    ideas: list[str] = []\n",
        "    # split idea generation into batches of 10\n",
        "    batches = int(n / 10)\n",
        "    # for each batch, generate 10 ideas\n",
        "    for i in range(batches):\n",
        "        new_ideas = get_new_ideas(system_prompt, 10, ideas)\n",
        "        # parse csv output into list of ideas\n",
        "        csv_file = StringIO(new_ideas)\n",
        "        df = pd.read_csv(csv_file)\n",
        "        # Merge with output_df\n",
        "        output_df = pd.concat([output_df, df])\n",
        "        # join name and description into one string\n",
        "        df['idea'] = df['name'] + ': ' + df['description']\n",
        "        # append to list of ideas\n",
        "        ideas.extend(df['idea'].tolist())\n",
        "\n",
        "    return output_df"
      ],
      "metadata": {
        "id": "96rLtfbFmwO8"
      },
      "execution_count": null,
      "outputs": []
    },
    {
      "cell_type": "markdown",
      "source": [
        "## Output\n",
        "\n",
        "This section contains all the necessary code for generating the output from GPT and storing it. You will need to provide a system prompt for what you want to tell the model to do (i.e. what types of ideas you want it to generate and what contraints it should consider) and how many ideas you would like it to generate (10 is the default).\n",
        "\n",
        "For the final output, the default program set up is to print the table of results for you. If you would also like to store the output data as a CSV file in your drive, uncomment the \"Google Drive\" section code below."
      ],
      "metadata": {
        "id": "LSroyklAoAHU"
      }
    },
    {
      "cell_type": "markdown",
      "source": [
        "### System Prompt\n",
        "\n",
        "In this section, you need to provide instructions to the model for what you want it to do. In order to help, there are a few examples of prompts that you can use or modify for your needs. You can also come up with your own if you would like."
      ],
      "metadata": {
        "id": "JNoTp1Bep2-7"
      }
    },
    {
      "cell_type": "code",
      "source": [
        "# Example system prompts\n",
        "\n",
        "SAAS_BUSINESS_PROMPT = \"\"\"You are a creative entrepreneur looking to generate new product ideas.\n",
        "The product will target other technology companies in the United States.\n",
        "It should be a software product, not a physical good or a service.\n",
        "I'd like for it to be a SaaS product, or software as a service.\n",
        "Customers should be business customers, so the product should be a B2B style business product.\n",
        "It should be a product that you can charge customers somewhere between $20 - $1,000 per month.\n",
        "The ideas are just ideas. The product need not yet exist, nor may it necessarily be clearly feasible.\"\"\"\n",
        "\n",
        "MARKETER_CONTENT_PROMPT = \"\"\"You are a creative marketer for a technology startup.\n",
        "Your job is to generate a series of ideas for creative marketing campaigns that our company can run.\n",
        "Our company sells email marketing software to ecommerce businesses.\n",
        "The campaign ideas should be innovative and off the beaten path.\"\"\""
      ],
      "metadata": {
        "id": "ff7hFQ-vqIg0"
      },
      "execution_count": null,
      "outputs": []
    },
    {
      "cell_type": "code",
      "source": [
        "system_prompt = input(\"What kinds of ideas do you want generated (aka the system prompt)? \")"
      ],
      "metadata": {
        "id": "DoLhUBploU0t"
      },
      "execution_count": null,
      "outputs": []
    },
    {
      "cell_type": "markdown",
      "source": [
        "### Number of Ideas\n",
        "\n",
        "Here, you need to provide the number of ideas you want generated for you. Keep in mind that the more ideas you generate, the longer it will take and the more money it will cost. In addition, It may error out if you ask for too many ideas at once, given the model's context window limitations. A good range is somewhere between 10-30 ideas."
      ],
      "metadata": {
        "id": "2pKX8CPmrhpa"
      }
    },
    {
      "cell_type": "code",
      "source": [
        "num_of_ideas = input(\"How many ideas would you like generated? \")"
      ],
      "metadata": {
        "id": "U9jESU4WrcJX"
      },
      "execution_count": null,
      "outputs": []
    },
    {
      "cell_type": "markdown",
      "source": [
        "### Ideas\n",
        "\n",
        "Running the below cells will print out your output into a table you can view."
      ],
      "metadata": {
        "id": "wcLjRAiqr5Vy"
      }
    },
    {
      "cell_type": "code",
      "source": [
        "output_df = generate_ideas(system_prompt, int(num_of_ideas))\n",
        "output_df"
      ],
      "metadata": {
        "id": "id2vYoIQrY_-"
      },
      "execution_count": null,
      "outputs": []
    },
    {
      "cell_type": "markdown",
      "source": [
        "### Google Drive\n",
        "\n",
        "If you would like to store the output in your Google Drive, you will need to uncomment the below code cell and run it yourself. Note: Google will ask you permission to access your Google Drive in order to save this information there."
      ],
      "metadata": {
        "id": "CCz3mtqOsMcW"
      }
    },
    {
      "cell_type": "code",
      "source": [
        "# from google.colab import drive\n",
        "# drive.mount('/content/drive')\n",
        "# filename = input(\"What would you like the file to be saved as (you don't need to include the .csv extension)? \")\n",
        "# output_df.to_csv(f'/content/drive/MyDrive/{filename}.csv', index=False)"
      ],
      "metadata": {
        "id": "6rSCc2_LsbmY"
      },
      "execution_count": null,
      "outputs": []
    }
  ]
}